{
 "cells": [
  {
   "cell_type": "markdown",
   "id": "2ceb15d6",
   "metadata": {},
   "source": [
    "*Para executar cada célula, selecione-a e clique \"ctrl + enter\"*"
   ]
  },
  {
   "cell_type": "code",
   "execution_count": 25,
   "id": "92968196",
   "metadata": {},
   "outputs": [],
   "source": [
    "from selenium import webdriver\n",
    "from selenium.webdriver.common.keys import Keys\n",
    "from selenium.webdriver.common.by import By\n",
    "from selenium.webdriver import ActionChains\n",
    "from selenium.webdriver.support.select import Select\n",
    "from selenium.webdriver.common.actions.action_builder import ActionBuilder\n",
    "from selenium.webdriver.common.actions.mouse_button import MouseButton\n",
    "from selenium.common.exceptions import ElementClickInterceptedException\n",
    "from selenium.common.exceptions import NoSuchElementException\n",
    "import time\n",
    "import numpy as np\n",
    "import pyautogui\n",
    "import re\n",
    "import pandas as pd\n",
    "from IPython.display import display, Markdown"
   ]
  },
  {
   "cell_type": "markdown",
   "id": "81438e1c",
   "metadata": {},
   "source": [
    "# Inputs\n",
    "\n",
    "Coloque as datas inicial e final a serem buscadas no clipping (formato dd/mm/aaaa)."
   ]
  },
  {
   "cell_type": "code",
   "execution_count": 2,
   "id": "4434730a",
   "metadata": {
    "scrolled": true
   },
   "outputs": [
    {
     "name": "stdout",
     "output_type": "stream",
     "text": [
      "Data Inicial:17/01/2023\n",
      "Data Final:07/02/2023\n"
     ]
    }
   ],
   "source": [
    "#Setar parâmetros\n",
    "data_inicial = str(input('Data Inicial:'))\n",
    "data_final = str(input('Data Final:'))"
   ]
  },
  {
   "cell_type": "markdown",
   "id": "707baee4",
   "metadata": {},
   "source": [
    "# Coleta de informações\n",
    "\n",
    "Ao rodar a célula abaixo, abra a aba do Google Chrome que surgirá em seu computador e não mexa no seu mouse ou teclado até que ela se feche."
   ]
  },
  {
   "cell_type": "code",
   "execution_count": 26,
   "id": "da82654c",
   "metadata": {},
   "outputs": [],
   "source": [
    "#Chegar na busca\n",
    "nav = webdriver.Chrome()\n",
    "nav.get(r'https://portalsinopress.com.br/sgc/identificador.php?_anterior=https%3A%2F%2Fportalsinopress.com.br%2Fsgc%2Findex.php%3F')\n",
    "nav.find_element('xpath', '//*[@id=\"_email\"]').send_keys('dleite@jeffreygroup.com', Keys.TAB)\n",
    "nav.find_element('xpath', '//*[@id=\"_senha\"]').send_keys('19411', Keys.ENTER)\n",
    "nav.find_element('xpath', '//*[@id=\"moldura_meio_menu\"]/a[1]/img').click()\n",
    "time.sleep(3)\n",
    "\n",
    "#Seleções - BHN\n",
    "select_element = nav.find_element('name', '_id_pessoa')\n",
    "select = Select(select_element)\n",
    "select.select_by_visible_text('BLACKHAWK NETWORK')\n",
    "time.sleep(3)\n",
    "select_element = nav.find_element('name', '_id_classificacao')\n",
    "select = Select(select_element)\n",
    "select.select_by_visible_text('Blackhawk Network')\n",
    "nav.find_element('xpath', '//*[@id=\"formulario_busca_avancada\"]/span[2]/label[2]').click()\n",
    "\n",
    "#Inserção de parâmetros padrão\n",
    "nav.find_element('xpath', '//*[@id=\"_busca_data_inicial\"]').send_keys(data_inicial)\n",
    "nav.find_element('xpath', '//*[@id=\"_busca_data_final\"]').send_keys(data_final)\n",
    "time.sleep(3)\n",
    "nav.find_element('xpath', '//*[@id=\"formulario_busca_avancada\"]/a/img').click()\n",
    "time.sleep(4)\n",
    "\n",
    "#Coleta de dados\n",
    "audiencia = []\n",
    "valoracao = []\n",
    "titulo = []\n",
    "link = []\n",
    "veiculo = []\n",
    "\n",
    "s = 3\n",
    "y_in = 300\n",
    "\n",
    "#Criar loop que só para quando levanta exceção\n",
    "while(s>0):\n",
    "    try:\n",
    "        nav.find_element('xpath', f'//*[@id=\"formulario_conteiner_clipping\"]/div[{s}]/div[2]/h1/a').click()\n",
    "        time.sleep(3)\n",
    "        try:\n",
    "            titulo1 = nav.find_element('xpath', '//*[@id=\"clipping_detalhe_01_grupo\"]/div[1]/h1').get_attribute('innerText')\n",
    "            titulo.append(titulo1)\n",
    "        except NoSuchElementException:\n",
    "            titulo1 = 'N/A'\n",
    "            titulo.append(titulo1)\n",
    "        try:\n",
    "            valoracao1 = nav.find_element('xpath', '//*[@id=\"clipping_detalhe_01_grupo\"]/div[2]/span[2]/h4').get_attribute('innerText')\n",
    "            valoracao.append(valoracao1)\n",
    "        except NoSuchElementException:\n",
    "            valoracao1 = 'N/A'\n",
    "            valoracao.append(valoracao1)\n",
    "        try:\n",
    "            audiencia1 = nav.find_element('xpath', '//*[@id=\"clipping_detalhe_01_grupo\"]/div[2]/span[3]/h4').get_attribute('innerText')\n",
    "            audiencia.append(audiencia1)\n",
    "        except NoSuchElementException:\n",
    "            audiencia1 = 0\n",
    "            audiencia.append(audiencia1)\n",
    "        link1 = nav.find_element('xpath', '//*[@id=\"clipping_detalhe_01_grupo\"]/div[2]/span[1]/h4/a').get_attribute('href')\n",
    "        link.append(link1)\n",
    "        veiculo1 = nav.find_element('xpath', '//*[@id=\"clipping_detalhe_01_grupo\"]/div[1]/h2').get_attribute('innerText')\n",
    "        veiculo.append(veiculo1)\n",
    "        s+=1\n",
    "    \n",
    "    except ElementClickInterceptedException:\n",
    "        pyautogui.click(x=577, y=y_in)\n",
    "        y_in += 50\n",
    "    \n",
    "    except NoSuchElementException:\n",
    "        s = -1\n",
    "\n",
    "nav.quit()"
   ]
  },
  {
   "cell_type": "code",
   "execution_count": 4,
   "id": "93ddc605",
   "metadata": {},
   "outputs": [
    {
     "name": "stdout",
     "output_type": "stream",
     "text": [
      "['A nova jornada de compra de gift cards no turismo', 'Busca por gift cards cresce em 2022 e serviços de turismo mostram futuro promissor', 'CRESCE USO DE CARTÕES-PRESENTE DE TURISMO NO BRASIL!', 'Empresa de cartões-presente vê futuro no Turismo no Brasil', 'Gift cards e sua importância para o futuro do e-commerce', 'Gift cards para turismo ganham força no Brasil', 'Gift cards para turismo ganham força no Brasil', 'Gift cards para turismo ganham força no Brasil', 'Gift cards para turismo ganham força no Brasil', 'Gift cards para turismo ganham força no Brasil', 'Gift cards para turismo ganham força no Brasil', 'Gift Cards para turismo ganham força no Brasil - Jornal Folha do Litoral', 'Gift cards para turismo ganham força no Brasil - Tecflow', 'Gift cards para turismo ganham força no Brasil.', 'Gift cards para turismo ganham força no Brasil.', 'Gift cards vão do varejo para o turismo e ganham força no Brasil']\n"
     ]
    }
   ],
   "source": [
    "#Ajeitar os títulos\n",
    "titulo_novo = []\n",
    "fim = len(titulo) - 1\n",
    "s = 0\n",
    "\n",
    "while (s<=fim):\n",
    "    nome = titulo[s]\n",
    "    nome = nome[:-13]\n",
    "    titulo_novo.append(nome)\n",
    "    s+=1\n",
    "    \n",
    "print(titulo_novo)"
   ]
  },
  {
   "cell_type": "code",
   "execution_count": 5,
   "id": "7aac3796",
   "metadata": {
    "scrolled": true
   },
   "outputs": [
    {
     "name": "stdout",
     "output_type": "stream",
     "text": [
      "['Consumidor Moderno ', 'Tudo Celular ', 'Simone Garcia ', 'Panrotas On Line ', 'CardMonitor ', 'Acesso Wi', 'JP Turismo ', 'Revista Live Marketing ', 'CardMonitor ', 'Fotografando na Viagem ', 'Revista Empreende Online ', 'Folha do Litoral de Balneário Camboriú ', 'TecFlow ', 'Visite Brasília ', 'Cidade Brasil Turismo ', 'Eletros ']\n"
     ]
    }
   ],
   "source": [
    "#Ajeitar Veículos\n",
    "veiculo_novo = []\n",
    "fim = len(veiculo) - 1\n",
    "s = 0\n",
    "\n",
    "while (s<=fim):\n",
    "    nome = re.split('-', veiculo[s])\n",
    "    nome = nome[0]\n",
    "    veiculo_novo.append(nome)\n",
    "    s+=1\n",
    "    \n",
    "print(veiculo_novo)"
   ]
  },
  {
   "cell_type": "code",
   "execution_count": 28,
   "id": "c2a43621",
   "metadata": {},
   "outputs": [
    {
     "name": "stdout",
     "output_type": "stream",
     "text": [
      "                                    Veículo  \\\n",
      "1                             Tudo Celular    \n",
      "3                         Panrotas On Line    \n",
      "0                       Consumidor Moderno    \n",
      "11  Folha do Litoral de Balneário Camboriú    \n",
      "10                Revista Empreende Online    \n",
      "13                         Visite Brasília    \n",
      "4                              CardMonitor    \n",
      "8                              CardMonitor    \n",
      "15                                 Eletros    \n",
      "2                            Simone Garcia    \n",
      "7                   Revista Live Marketing    \n",
      "5                                 Acesso Wi   \n",
      "9                   Fotografando na Viagem    \n",
      "12                                 TecFlow    \n",
      "14                   Cidade Brasil Turismo    \n",
      "6                               JP Turismo    \n",
      "\n",
      "                                               Título  Audiência  \\\n",
      "1   Busca por gift cards cresce em 2022 e serviços...   265400.0   \n",
      "3   Empresa de cartões-presente vê futuro no Turis...     9103.0   \n",
      "0   A nova jornada de compra de gift cards no turismo     3992.0   \n",
      "11  Gift Cards para turismo ganham força no Brasil...     2085.0   \n",
      "10     Gift cards para turismo ganham força no Brasil     2046.0   \n",
      "13    Gift cards para turismo ganham força no Brasil.     2020.0   \n",
      "4   Gift cards e sua importância para o futuro do ...     2016.0   \n",
      "8      Gift cards para turismo ganham força no Brasil     2016.0   \n",
      "15  Gift cards vão do varejo para o turismo e ganh...     2011.0   \n",
      "2   CRESCE USO DE CARTÕES-PRESENTE DE TURISMO NO B...     2008.0   \n",
      "7      Gift cards para turismo ganham força no Brasil     2004.0   \n",
      "5      Gift cards para turismo ganham força no Brasil     2000.0   \n",
      "9      Gift cards para turismo ganham força no Brasil     2000.0   \n",
      "12  Gift cards para turismo ganham força no Brasil...     2000.0   \n",
      "14    Gift cards para turismo ganham força no Brasil.     2000.0   \n",
      "6      Gift cards para turismo ganham força no Brasil        0.0   \n",
      "\n",
      "        Valoração                                               Link  \n",
      "1   R$ 257.288,58  https://www.tudocelular.com/mercado/noticias/n...  \n",
      "3     R$ 5.845,25  https://www.panrotas.com.br/service-news/reade...  \n",
      "0     R$ 6.748,90  https://www.consumidormoderno.com.br/2023/02/0...  \n",
      "11    R$ 1.531,61  https://jornalfolhalitoral.com.br/gift-cards-p...  \n",
      "10      R$ 962,81  https://revistaempreende.com.br/2023/01/18/gif...  \n",
      "13      R$ 942,04  https://www.visitebrasilia.com.br/noticias/gif...  \n",
      "4     R$ 1.187,05  file:///C:/Users/Sinopress/Downloads/Cardclipp...  \n",
      "8       R$ 455,38  https://portalsinopress.com.br/sgc/-%20https:/...  \n",
      "15    R$ 2.001,75  https://www.ibevar.org.br/blog/gift-cards-vao-...  \n",
      "2     R$ 1.464,44  http://www.simonegalib.com.br/2023/01/cresce-u...  \n",
      "7     R$ 2.124,71  https://revistalivemarketing.com.br/gift-cards...  \n",
      "5       R$ 560,81  https://acessowi-fi.com/gift-cards-para-turism...  \n",
      "9     R$ 3.588,89  https://fotografandonaviagem.com.br/2023/01/17...  \n",
      "12    R$ 3.694,17  https://tecflow.com.br/2023/01/18/gift-cards-p...  \n",
      "14      R$ 780,74  https://www.cidadebrasilturismo.com.br/2023/01...  \n",
      "6            2020  https://jpturismo.com.br/gift-cards-para-turis...  \n"
     ]
    }
   ],
   "source": [
    "#Ordenar por audiencia\n",
    "df = pd.DataFrame(veiculo_novo, columns=['Veículo'])\n",
    "df['Título'] = titulo_novo\n",
    "df['Audiência'] = audiencia\n",
    "df['Valoração'] = valoracao\n",
    "df['Link'] = link\n",
    "\n",
    "df['Audiência'] = df['Audiência'].astype(float)\n",
    "df = df.sort_values(by='Audiência', ascending=False)\n",
    "\n",
    "print(df)"
   ]
  },
  {
   "cell_type": "code",
   "execution_count": 31,
   "id": "45eef0a3",
   "metadata": {},
   "outputs": [],
   "source": [
    "#Ajeitar Audiência\n",
    "audiencia = df['Audiência'].tolist()\n",
    "fim = len(audiencia) - 1\n",
    "s = 0\n",
    "\n",
    "while (s<=fim):\n",
    "    audiencia[s] = f'{audiencia[s]:_.0f}'\n",
    "    audiencia[s] = audiencia[s].replace('.', ',').replace('_', '.')\n",
    "    s+=1"
   ]
  },
  {
   "cell_type": "code",
   "execution_count": 32,
   "id": "5e250dc0",
   "metadata": {},
   "outputs": [],
   "source": [
    "#voltar pra listas\n",
    "valoracao = df['Valoração'].tolist()\n",
    "link = df['Link'].tolist()\n",
    "veiculo = df['Veículo'].tolist()\n",
    "titulo = df['Título'].tolist()"
   ]
  },
  {
   "cell_type": "markdown",
   "id": "6ecf3fac",
   "metadata": {},
   "source": [
    "# Resultado final\n",
    "\n",
    "Copie o resultado da célula abaixo e cole no e-mail do relatório. Aí, basta acrescentar a análise e enviar!"
   ]
  },
  {
   "cell_type": "code",
   "execution_count": 33,
   "id": "fa2c504e",
   "metadata": {
    "scrolled": true
   },
   "outputs": [
    {
     "data": {
      "text/markdown": [
       "**1. Tudo Celular | Busca por gift cards cresce em 2022 e serviços de turismo mostram futuro promissor**"
      ],
      "text/plain": [
       "<IPython.core.display.Markdown object>"
      ]
     },
     "metadata": {},
     "output_type": "display_data"
    },
    {
     "name": "stdout",
     "output_type": "stream",
     "text": [
      "\n"
     ]
    },
    {
     "data": {
      "text/markdown": [
       "**Audiência:** 265.400"
      ],
      "text/plain": [
       "<IPython.core.display.Markdown object>"
      ]
     },
     "metadata": {},
     "output_type": "display_data"
    },
    {
     "data": {
      "text/markdown": [
       "**Valoração:** R$ 257.288,58"
      ],
      "text/plain": [
       "<IPython.core.display.Markdown object>"
      ]
     },
     "metadata": {},
     "output_type": "display_data"
    },
    {
     "name": "stdout",
     "output_type": "stream",
     "text": [
      "\n"
     ]
    },
    {
     "data": {
      "text/markdown": [
       "Leia [aqui](https://www.tudocelular.com/mercado/noticias/n201114/gift-cards-para-turismo-ganham-forca-no-brasil.html)."
      ],
      "text/plain": [
       "<IPython.core.display.Markdown object>"
      ]
     },
     "metadata": {},
     "output_type": "display_data"
    },
    {
     "name": "stdout",
     "output_type": "stream",
     "text": [
      "\n"
     ]
    },
    {
     "data": {
      "text/markdown": [
       "**2. Panrotas On Line | Empresa de cartões-presente vê futuro no Turismo no Brasil**"
      ],
      "text/plain": [
       "<IPython.core.display.Markdown object>"
      ]
     },
     "metadata": {},
     "output_type": "display_data"
    },
    {
     "name": "stdout",
     "output_type": "stream",
     "text": [
      "\n"
     ]
    },
    {
     "data": {
      "text/markdown": [
       "**Audiência:** 9.103"
      ],
      "text/plain": [
       "<IPython.core.display.Markdown object>"
      ]
     },
     "metadata": {},
     "output_type": "display_data"
    },
    {
     "data": {
      "text/markdown": [
       "**Valoração:** R$ 5.845,25"
      ],
      "text/plain": [
       "<IPython.core.display.Markdown object>"
      ]
     },
     "metadata": {},
     "output_type": "display_data"
    },
    {
     "name": "stdout",
     "output_type": "stream",
     "text": [
      "\n"
     ]
    },
    {
     "data": {
      "text/markdown": [
       "Leia [aqui](https://www.panrotas.com.br/service-news/reader/reader.asp?cod_not=194282)."
      ],
      "text/plain": [
       "<IPython.core.display.Markdown object>"
      ]
     },
     "metadata": {},
     "output_type": "display_data"
    },
    {
     "name": "stdout",
     "output_type": "stream",
     "text": [
      "\n"
     ]
    },
    {
     "data": {
      "text/markdown": [
       "**3. Consumidor Moderno | A nova jornada de compra de gift cards no turismo**"
      ],
      "text/plain": [
       "<IPython.core.display.Markdown object>"
      ]
     },
     "metadata": {},
     "output_type": "display_data"
    },
    {
     "name": "stdout",
     "output_type": "stream",
     "text": [
      "\n"
     ]
    },
    {
     "data": {
      "text/markdown": [
       "**Audiência:** 3.992"
      ],
      "text/plain": [
       "<IPython.core.display.Markdown object>"
      ]
     },
     "metadata": {},
     "output_type": "display_data"
    },
    {
     "data": {
      "text/markdown": [
       "**Valoração:** R$ 6.748,90"
      ],
      "text/plain": [
       "<IPython.core.display.Markdown object>"
      ]
     },
     "metadata": {},
     "output_type": "display_data"
    },
    {
     "name": "stdout",
     "output_type": "stream",
     "text": [
      "\n"
     ]
    },
    {
     "data": {
      "text/markdown": [
       "Leia [aqui](https://www.consumidormoderno.com.br/2023/02/03/nova-jornada-compra-gift-cards/)."
      ],
      "text/plain": [
       "<IPython.core.display.Markdown object>"
      ]
     },
     "metadata": {},
     "output_type": "display_data"
    },
    {
     "name": "stdout",
     "output_type": "stream",
     "text": [
      "\n"
     ]
    },
    {
     "data": {
      "text/markdown": [
       "**4. Folha do Litoral de Balneário Camboriú | Gift Cards para turismo ganham força no Brasil - Jornal Folha do Litoral**"
      ],
      "text/plain": [
       "<IPython.core.display.Markdown object>"
      ]
     },
     "metadata": {},
     "output_type": "display_data"
    },
    {
     "name": "stdout",
     "output_type": "stream",
     "text": [
      "\n"
     ]
    },
    {
     "data": {
      "text/markdown": [
       "**Audiência:** 2.085"
      ],
      "text/plain": [
       "<IPython.core.display.Markdown object>"
      ]
     },
     "metadata": {},
     "output_type": "display_data"
    },
    {
     "data": {
      "text/markdown": [
       "**Valoração:** R$ 1.531,61"
      ],
      "text/plain": [
       "<IPython.core.display.Markdown object>"
      ]
     },
     "metadata": {},
     "output_type": "display_data"
    },
    {
     "name": "stdout",
     "output_type": "stream",
     "text": [
      "\n"
     ]
    },
    {
     "data": {
      "text/markdown": [
       "Leia [aqui](https://jornalfolhalitoral.com.br/gift-cards-para-turismo-ganham-forca-no-brasil/?noamp=mobile)."
      ],
      "text/plain": [
       "<IPython.core.display.Markdown object>"
      ]
     },
     "metadata": {},
     "output_type": "display_data"
    },
    {
     "name": "stdout",
     "output_type": "stream",
     "text": [
      "\n"
     ]
    },
    {
     "data": {
      "text/markdown": [
       "**5. Revista Empreende Online | Gift cards para turismo ganham força no Brasil**"
      ],
      "text/plain": [
       "<IPython.core.display.Markdown object>"
      ]
     },
     "metadata": {},
     "output_type": "display_data"
    },
    {
     "name": "stdout",
     "output_type": "stream",
     "text": [
      "\n"
     ]
    },
    {
     "data": {
      "text/markdown": [
       "**Audiência:** 2.046"
      ],
      "text/plain": [
       "<IPython.core.display.Markdown object>"
      ]
     },
     "metadata": {},
     "output_type": "display_data"
    },
    {
     "data": {
      "text/markdown": [
       "**Valoração:** R$ 962,81"
      ],
      "text/plain": [
       "<IPython.core.display.Markdown object>"
      ]
     },
     "metadata": {},
     "output_type": "display_data"
    },
    {
     "name": "stdout",
     "output_type": "stream",
     "text": [
      "\n"
     ]
    },
    {
     "data": {
      "text/markdown": [
       "Leia [aqui](https://revistaempreende.com.br/2023/01/18/gift-cards-para-turismo-ganham-forca-no-brasil/)."
      ],
      "text/plain": [
       "<IPython.core.display.Markdown object>"
      ]
     },
     "metadata": {},
     "output_type": "display_data"
    },
    {
     "name": "stdout",
     "output_type": "stream",
     "text": [
      "\n"
     ]
    },
    {
     "data": {
      "text/markdown": [
       "**6. Visite Brasília | Gift cards para turismo ganham força no Brasil.**"
      ],
      "text/plain": [
       "<IPython.core.display.Markdown object>"
      ]
     },
     "metadata": {},
     "output_type": "display_data"
    },
    {
     "name": "stdout",
     "output_type": "stream",
     "text": [
      "\n"
     ]
    },
    {
     "data": {
      "text/markdown": [
       "**Audiência:** 2.020"
      ],
      "text/plain": [
       "<IPython.core.display.Markdown object>"
      ]
     },
     "metadata": {},
     "output_type": "display_data"
    },
    {
     "data": {
      "text/markdown": [
       "**Valoração:** R$ 942,04"
      ],
      "text/plain": [
       "<IPython.core.display.Markdown object>"
      ]
     },
     "metadata": {},
     "output_type": "display_data"
    },
    {
     "name": "stdout",
     "output_type": "stream",
     "text": [
      "\n"
     ]
    },
    {
     "data": {
      "text/markdown": [
       "Leia [aqui](https://www.visitebrasilia.com.br/noticias/gift-cards-para-turismo-ganham-forca-no-brasil)."
      ],
      "text/plain": [
       "<IPython.core.display.Markdown object>"
      ]
     },
     "metadata": {},
     "output_type": "display_data"
    },
    {
     "name": "stdout",
     "output_type": "stream",
     "text": [
      "\n"
     ]
    },
    {
     "data": {
      "text/markdown": [
       "**7. CardMonitor | Gift cards e sua importância para o futuro do e-commerce**"
      ],
      "text/plain": [
       "<IPython.core.display.Markdown object>"
      ]
     },
     "metadata": {},
     "output_type": "display_data"
    },
    {
     "name": "stdout",
     "output_type": "stream",
     "text": [
      "\n"
     ]
    },
    {
     "data": {
      "text/markdown": [
       "**Audiência:** 2.016"
      ],
      "text/plain": [
       "<IPython.core.display.Markdown object>"
      ]
     },
     "metadata": {},
     "output_type": "display_data"
    },
    {
     "data": {
      "text/markdown": [
       "**Valoração:** R$ 1.187,05"
      ],
      "text/plain": [
       "<IPython.core.display.Markdown object>"
      ]
     },
     "metadata": {},
     "output_type": "display_data"
    },
    {
     "name": "stdout",
     "output_type": "stream",
     "text": [
      "\n"
     ]
    },
    {
     "data": {
      "text/markdown": [
       "Leia [aqui](file:///C:/Users/Sinopress/Downloads/Cardclipping%20-%20Gift%20Cards%20para%20turismo%20ganham%20for%C3%83%C2%A7a%20no%20Brasil.pdf)."
      ],
      "text/plain": [
       "<IPython.core.display.Markdown object>"
      ]
     },
     "metadata": {},
     "output_type": "display_data"
    },
    {
     "name": "stdout",
     "output_type": "stream",
     "text": [
      "\n"
     ]
    },
    {
     "data": {
      "text/markdown": [
       "**8. CardMonitor | Gift cards para turismo ganham força no Brasil**"
      ],
      "text/plain": [
       "<IPython.core.display.Markdown object>"
      ]
     },
     "metadata": {},
     "output_type": "display_data"
    },
    {
     "name": "stdout",
     "output_type": "stream",
     "text": [
      "\n"
     ]
    },
    {
     "data": {
      "text/markdown": [
       "**Audiência:** 2.016"
      ],
      "text/plain": [
       "<IPython.core.display.Markdown object>"
      ]
     },
     "metadata": {},
     "output_type": "display_data"
    },
    {
     "data": {
      "text/markdown": [
       "**Valoração:** R$ 455,38"
      ],
      "text/plain": [
       "<IPython.core.display.Markdown object>"
      ]
     },
     "metadata": {},
     "output_type": "display_data"
    },
    {
     "name": "stdout",
     "output_type": "stream",
     "text": [
      "\n"
     ]
    },
    {
     "data": {
      "text/markdown": [
       "Leia [aqui](https://portalsinopress.com.br/sgc/-%20https://cardmonitor.com.br/ccd/cardclipping/2023/01/gift-cards-para-turismo-ganham-forca-no-brasil/)."
      ],
      "text/plain": [
       "<IPython.core.display.Markdown object>"
      ]
     },
     "metadata": {},
     "output_type": "display_data"
    },
    {
     "name": "stdout",
     "output_type": "stream",
     "text": [
      "\n"
     ]
    },
    {
     "data": {
      "text/markdown": [
       "**9. Eletros | Gift cards vão do varejo para o turismo e ganham força no Brasil**"
      ],
      "text/plain": [
       "<IPython.core.display.Markdown object>"
      ]
     },
     "metadata": {},
     "output_type": "display_data"
    },
    {
     "name": "stdout",
     "output_type": "stream",
     "text": [
      "\n"
     ]
    },
    {
     "data": {
      "text/markdown": [
       "**Audiência:** 2.011"
      ],
      "text/plain": [
       "<IPython.core.display.Markdown object>"
      ]
     },
     "metadata": {},
     "output_type": "display_data"
    },
    {
     "data": {
      "text/markdown": [
       "**Valoração:** R$ 2.001,75"
      ],
      "text/plain": [
       "<IPython.core.display.Markdown object>"
      ]
     },
     "metadata": {},
     "output_type": "display_data"
    },
    {
     "name": "stdout",
     "output_type": "stream",
     "text": [
      "\n"
     ]
    },
    {
     "data": {
      "text/markdown": [
       "Leia [aqui](https://www.ibevar.org.br/blog/gift-cards-vao-do-varejo-para-o-turismo-e-ganham-forca-no-brasil/)."
      ],
      "text/plain": [
       "<IPython.core.display.Markdown object>"
      ]
     },
     "metadata": {},
     "output_type": "display_data"
    },
    {
     "name": "stdout",
     "output_type": "stream",
     "text": [
      "\n"
     ]
    },
    {
     "data": {
      "text/markdown": [
       "**10. Simone Garcia | CRESCE USO DE CARTÕES-PRESENTE DE TURISMO NO BRASIL!**"
      ],
      "text/plain": [
       "<IPython.core.display.Markdown object>"
      ]
     },
     "metadata": {},
     "output_type": "display_data"
    },
    {
     "name": "stdout",
     "output_type": "stream",
     "text": [
      "\n"
     ]
    },
    {
     "data": {
      "text/markdown": [
       "**Audiência:** 2.008"
      ],
      "text/plain": [
       "<IPython.core.display.Markdown object>"
      ]
     },
     "metadata": {},
     "output_type": "display_data"
    },
    {
     "data": {
      "text/markdown": [
       "**Valoração:** R$ 1.464,44"
      ],
      "text/plain": [
       "<IPython.core.display.Markdown object>"
      ]
     },
     "metadata": {},
     "output_type": "display_data"
    },
    {
     "name": "stdout",
     "output_type": "stream",
     "text": [
      "\n"
     ]
    },
    {
     "data": {
      "text/markdown": [
       "Leia [aqui](http://www.simonegalib.com.br/2023/01/cresce-uso-de-cartoes-presente-de.html)."
      ],
      "text/plain": [
       "<IPython.core.display.Markdown object>"
      ]
     },
     "metadata": {},
     "output_type": "display_data"
    },
    {
     "name": "stdout",
     "output_type": "stream",
     "text": [
      "\n"
     ]
    },
    {
     "data": {
      "text/markdown": [
       "**11. Revista Live Marketing | Gift cards para turismo ganham força no Brasil**"
      ],
      "text/plain": [
       "<IPython.core.display.Markdown object>"
      ]
     },
     "metadata": {},
     "output_type": "display_data"
    },
    {
     "name": "stdout",
     "output_type": "stream",
     "text": [
      "\n"
     ]
    },
    {
     "data": {
      "text/markdown": [
       "**Audiência:** 2.004"
      ],
      "text/plain": [
       "<IPython.core.display.Markdown object>"
      ]
     },
     "metadata": {},
     "output_type": "display_data"
    },
    {
     "data": {
      "text/markdown": [
       "**Valoração:** R$ 2.124,71"
      ],
      "text/plain": [
       "<IPython.core.display.Markdown object>"
      ]
     },
     "metadata": {},
     "output_type": "display_data"
    },
    {
     "name": "stdout",
     "output_type": "stream",
     "text": [
      "\n"
     ]
    },
    {
     "data": {
      "text/markdown": [
       "Leia [aqui](https://revistalivemarketing.com.br/gift-cards-para-turismo-ganham-forca-no-brasil/)."
      ],
      "text/plain": [
       "<IPython.core.display.Markdown object>"
      ]
     },
     "metadata": {},
     "output_type": "display_data"
    },
    {
     "name": "stdout",
     "output_type": "stream",
     "text": [
      "\n"
     ]
    },
    {
     "data": {
      "text/markdown": [
       "**12. Acesso Wi| Gift cards para turismo ganham força no Brasil**"
      ],
      "text/plain": [
       "<IPython.core.display.Markdown object>"
      ]
     },
     "metadata": {},
     "output_type": "display_data"
    },
    {
     "name": "stdout",
     "output_type": "stream",
     "text": [
      "\n"
     ]
    },
    {
     "data": {
      "text/markdown": [
       "**Audiência:** 2.000"
      ],
      "text/plain": [
       "<IPython.core.display.Markdown object>"
      ]
     },
     "metadata": {},
     "output_type": "display_data"
    },
    {
     "data": {
      "text/markdown": [
       "**Valoração:** R$ 560,81"
      ],
      "text/plain": [
       "<IPython.core.display.Markdown object>"
      ]
     },
     "metadata": {},
     "output_type": "display_data"
    },
    {
     "name": "stdout",
     "output_type": "stream",
     "text": [
      "\n"
     ]
    },
    {
     "data": {
      "text/markdown": [
       "Leia [aqui](https://acessowi-fi.com/gift-cards-para-turismo-ganham-forca-no-brasil/)."
      ],
      "text/plain": [
       "<IPython.core.display.Markdown object>"
      ]
     },
     "metadata": {},
     "output_type": "display_data"
    },
    {
     "name": "stdout",
     "output_type": "stream",
     "text": [
      "\n"
     ]
    },
    {
     "data": {
      "text/markdown": [
       "**13. Fotografando na Viagem | Gift cards para turismo ganham força no Brasil**"
      ],
      "text/plain": [
       "<IPython.core.display.Markdown object>"
      ]
     },
     "metadata": {},
     "output_type": "display_data"
    },
    {
     "name": "stdout",
     "output_type": "stream",
     "text": [
      "\n"
     ]
    },
    {
     "data": {
      "text/markdown": [
       "**Audiência:** 2.000"
      ],
      "text/plain": [
       "<IPython.core.display.Markdown object>"
      ]
     },
     "metadata": {},
     "output_type": "display_data"
    },
    {
     "data": {
      "text/markdown": [
       "**Valoração:** R$ 3.588,89"
      ],
      "text/plain": [
       "<IPython.core.display.Markdown object>"
      ]
     },
     "metadata": {},
     "output_type": "display_data"
    },
    {
     "name": "stdout",
     "output_type": "stream",
     "text": [
      "\n"
     ]
    },
    {
     "data": {
      "text/markdown": [
       "Leia [aqui](https://fotografandonaviagem.com.br/2023/01/17/gift-cards-para-turismo-ganham-forca-no-brasil/)."
      ],
      "text/plain": [
       "<IPython.core.display.Markdown object>"
      ]
     },
     "metadata": {},
     "output_type": "display_data"
    },
    {
     "name": "stdout",
     "output_type": "stream",
     "text": [
      "\n"
     ]
    },
    {
     "data": {
      "text/markdown": [
       "**14. TecFlow | Gift cards para turismo ganham força no Brasil - Tecflow**"
      ],
      "text/plain": [
       "<IPython.core.display.Markdown object>"
      ]
     },
     "metadata": {},
     "output_type": "display_data"
    },
    {
     "name": "stdout",
     "output_type": "stream",
     "text": [
      "\n"
     ]
    },
    {
     "data": {
      "text/markdown": [
       "**Audiência:** 2.000"
      ],
      "text/plain": [
       "<IPython.core.display.Markdown object>"
      ]
     },
     "metadata": {},
     "output_type": "display_data"
    },
    {
     "data": {
      "text/markdown": [
       "**Valoração:** R$ 3.694,17"
      ],
      "text/plain": [
       "<IPython.core.display.Markdown object>"
      ]
     },
     "metadata": {},
     "output_type": "display_data"
    },
    {
     "name": "stdout",
     "output_type": "stream",
     "text": [
      "\n"
     ]
    },
    {
     "data": {
      "text/markdown": [
       "Leia [aqui](https://tecflow.com.br/2023/01/18/gift-cards-para-turismo-ganham-forca-no-brasil/)."
      ],
      "text/plain": [
       "<IPython.core.display.Markdown object>"
      ]
     },
     "metadata": {},
     "output_type": "display_data"
    },
    {
     "name": "stdout",
     "output_type": "stream",
     "text": [
      "\n"
     ]
    },
    {
     "data": {
      "text/markdown": [
       "**15. Cidade Brasil Turismo | Gift cards para turismo ganham força no Brasil.**"
      ],
      "text/plain": [
       "<IPython.core.display.Markdown object>"
      ]
     },
     "metadata": {},
     "output_type": "display_data"
    },
    {
     "name": "stdout",
     "output_type": "stream",
     "text": [
      "\n"
     ]
    },
    {
     "data": {
      "text/markdown": [
       "**Audiência:** 2.000"
      ],
      "text/plain": [
       "<IPython.core.display.Markdown object>"
      ]
     },
     "metadata": {},
     "output_type": "display_data"
    },
    {
     "data": {
      "text/markdown": [
       "**Valoração:** R$ 780,74"
      ],
      "text/plain": [
       "<IPython.core.display.Markdown object>"
      ]
     },
     "metadata": {},
     "output_type": "display_data"
    },
    {
     "name": "stdout",
     "output_type": "stream",
     "text": [
      "\n"
     ]
    },
    {
     "data": {
      "text/markdown": [
       "Leia [aqui](https://www.cidadebrasilturismo.com.br/2023/01/gift-cards-para-turismo-ganham-forca-no.html)."
      ],
      "text/plain": [
       "<IPython.core.display.Markdown object>"
      ]
     },
     "metadata": {},
     "output_type": "display_data"
    },
    {
     "name": "stdout",
     "output_type": "stream",
     "text": [
      "\n"
     ]
    },
    {
     "data": {
      "text/markdown": [
       "**16. JP Turismo | Gift cards para turismo ganham força no Brasil**"
      ],
      "text/plain": [
       "<IPython.core.display.Markdown object>"
      ]
     },
     "metadata": {},
     "output_type": "display_data"
    },
    {
     "name": "stdout",
     "output_type": "stream",
     "text": [
      "\n"
     ]
    },
    {
     "data": {
      "text/markdown": [
       "**Audiência:** 0"
      ],
      "text/plain": [
       "<IPython.core.display.Markdown object>"
      ]
     },
     "metadata": {},
     "output_type": "display_data"
    },
    {
     "data": {
      "text/markdown": [
       "**Valoração:** 2020"
      ],
      "text/plain": [
       "<IPython.core.display.Markdown object>"
      ]
     },
     "metadata": {},
     "output_type": "display_data"
    },
    {
     "name": "stdout",
     "output_type": "stream",
     "text": [
      "\n"
     ]
    },
    {
     "data": {
      "text/markdown": [
       "Leia [aqui](https://jpturismo.com.br/gift-cards-para-turismo-ganham-forca-no-brasil/)."
      ],
      "text/plain": [
       "<IPython.core.display.Markdown object>"
      ]
     },
     "metadata": {},
     "output_type": "display_data"
    },
    {
     "name": "stdout",
     "output_type": "stream",
     "text": [
      "\n"
     ]
    }
   ],
   "source": [
    "#Imprimir resultado\n",
    "fim = len(veiculo) - 1\n",
    "s = 0\n",
    "n = 1\n",
    "\n",
    "while (s<=fim):\n",
    "    display(Markdown(f'**{n}. {veiculo[s]}| {titulo[s]}**'))\n",
    "    print('')\n",
    "    display(Markdown(f'**Audiência:** {audiencia[s]}'))\n",
    "    display(Markdown(f'**Valoração:** {valoracao[s]}'))\n",
    "    print('')\n",
    "    display(Markdown(f'Leia [aqui]({link[s]}).'))\n",
    "    print('')\n",
    "    s+=1\n",
    "    n+=1"
   ]
  }
 ],
 "metadata": {
  "kernelspec": {
   "display_name": "Python 3 (ipykernel)",
   "language": "python",
   "name": "python3"
  },
  "language_info": {
   "codemirror_mode": {
    "name": "ipython",
    "version": 3
   },
   "file_extension": ".py",
   "mimetype": "text/x-python",
   "name": "python",
   "nbconvert_exporter": "python",
   "pygments_lexer": "ipython3",
   "version": "3.9.12"
  }
 },
 "nbformat": 4,
 "nbformat_minor": 5
}
